{
  "nbformat": 4,
  "nbformat_minor": 0,
  "metadata": {
    "colab": {
      "name": "craftml.ipynb",
      "provenance": []
    },
    "kernelspec": {
      "name": "python3",
      "display_name": "Python 3"
    }
  },
  "cells": [
    {
      "cell_type": "code",
      "metadata": {
        "id": "Zm_NVevXQEkN",
        "colab_type": "code",
        "colab": {}
      },
      "source": [
        "from google.colab import drive\n",
        "drive.mount('/content/drive')"
      ],
      "execution_count": 0,
      "outputs": []
    },
    {
      "cell_type": "code",
      "metadata": {
        "id": "twKC04DWQPT_",
        "colab_type": "code",
        "colab": {}
      },
      "source": [
        "import pandas as pd\n",
        "import numpy as np"
      ],
      "execution_count": 0,
      "outputs": []
    },
    {
      "cell_type": "markdown",
      "metadata": {
        "id": "bK_64uT5UaWx",
        "colab_type": "text"
      },
      "source": [
        "# Mediamill dataset"
      ]
    },
    {
      "cell_type": "code",
      "metadata": {
        "id": "sLc-7sAiQVJ3",
        "colab_type": "code",
        "colab": {}
      },
      "source": [
        "# data = pd.read_csv('/content/drive/My Drive/IPSC Final Project/Mediamill/mediamill_trSplit.txt', header = None)"
      ],
      "execution_count": 0,
      "outputs": []
    },
    {
      "cell_type": "code",
      "metadata": {
        "id": "oZ4_ak-mQttd",
        "colab_type": "code",
        "colab": {}
      },
      "source": [
        "# data1 = open('/content/drive/My Drive/IPSC Final Project/Mediamill/mediamill_trSplit.txt', 'r')\n",
        "# data1.readlines()"
      ],
      "execution_count": 0,
      "outputs": []
    },
    {
      "cell_type": "markdown",
      "metadata": {
        "id": "O7wLBc37Ucda",
        "colab_type": "text"
      },
      "source": [
        "# Bibtex dataset"
      ]
    },
    {
      "cell_type": "code",
      "metadata": {
        "id": "V0jkVspjRIvI",
        "colab_type": "code",
        "colab": {}
      },
      "source": [
        "# import scipy\n",
        "# from scipy.io import arff\n",
        "# data, meta = scipy.io.arff.loadarff('/content/drive/My Drive/IPSC Final Project/bibtex/bibtex-train.arff')\n",
        "# df = pd.DataFrame(data)"
      ],
      "execution_count": 0,
      "outputs": []
    },
    {
      "cell_type": "markdown",
      "metadata": {
        "id": "Wl5zBb55UgR_",
        "colab_type": "text"
      },
      "source": [
        "# Randomly generated dataset"
      ]
    },
    {
      "cell_type": "code",
      "metadata": {
        "id": "ceJGEfeDUA4y",
        "colab_type": "code",
        "outputId": "688088e0-706d-4188-b3b8-fc219e4253b0",
        "colab": {
          "base_uri": "https://localhost:8080/",
          "height": 52
        }
      },
      "source": [
        "from sklearn.ensemble import RandomForestClassifier\n",
        "from sklearn.datasets import make_classification\n",
        "X, y = make_classification(n_samples=1000, n_features=4, n_informative=2, n_redundant=0, random_state=0, shuffle=False)\n",
        "clf = RandomForestClassifier(max_depth=2, random_state=0)\n",
        "clf.fit(X, y)\n",
        "RandomForestClassifier(max_depth=2, random_state=0)\n",
        "print(clf.feature_importances_)\n",
        "# [0.14205973 0.76664038 0.0282433  0.06305659]\n",
        "print(clf.predict([[0, 0, 0, 0]]))"
      ],
      "execution_count": 0,
      "outputs": [
        {
          "output_type": "stream",
          "text": [
            "[0.14205973 0.76664038 0.0282433  0.06305659]\n",
            "[1]\n"
          ],
          "name": "stdout"
        }
      ]
    },
    {
      "cell_type": "markdown",
      "metadata": {
        "id": "lO7SRdN4UkZG",
        "colab_type": "text"
      },
      "source": [
        "# Yeast dataset"
      ]
    },
    {
      "cell_type": "code",
      "metadata": {
        "id": "XN69fwd8UvEt",
        "colab_type": "code",
        "colab": {}
      },
      "source": [
        "from scipy.io import arff\n",
        "import pandas as pd\n",
        "\n",
        "data = arff.loadarff('/content/drive/My Drive/IPSC Final Project/yeast/yeast-train.arff')\n",
        "df = pd.DataFrame(data[0])\n",
        "X = df.iloc[:,0:104]\n",
        "y = df.iloc[: , 103:]\n",
        "y = y.astype('int32')"
      ],
      "execution_count": 0,
      "outputs": []
    },
    {
      "cell_type": "markdown",
      "metadata": {
        "id": "_HBhQYdhUmxJ",
        "colab_type": "text"
      },
      "source": [
        "# Train validation split"
      ]
    },
    {
      "cell_type": "code",
      "metadata": {
        "id": "ZsuTmf1cQR4l",
        "colab_type": "code",
        "colab": {}
      },
      "source": [
        "from sklearn.model_selection import train_test_split\n",
        "X_train, X_test, y_train, y_test = train_test_split(X, y, test_size=0.20)"
      ],
      "execution_count": 0,
      "outputs": []
    },
    {
      "cell_type": "code",
      "metadata": {
        "id": "aDPWVFZNQbzg",
        "colab_type": "code",
        "colab": {
          "base_uri": "https://localhost:8080/",
          "height": 86
        },
        "outputId": "32948276-baaa-4933-d699-a46b2c4e213a"
      },
      "source": [
        "print(X_train.shape)\n",
        "print(y_train.shape)\n",
        "print(X_test.shape)\n",
        "print(y_test.shape)"
      ],
      "execution_count": 27,
      "outputs": [
        {
          "output_type": "stream",
          "text": [
            "(1200, 104)\n",
            "(1200, 14)\n",
            "(300, 104)\n",
            "(300, 14)\n"
          ],
          "name": "stdout"
        }
      ]
    },
    {
      "cell_type": "markdown",
      "metadata": {
        "id": "K9-u3_5lUqn0",
        "colab_type": "text"
      },
      "source": [
        "# Random forest classifier"
      ]
    },
    {
      "cell_type": "code",
      "metadata": {
        "id": "YcEE-VNcKbWJ",
        "colab_type": "code",
        "colab": {}
      },
      "source": [
        "from sklearn.ensemble import RandomForestClassifier\n",
        "from sklearn.metrics import accuracy_score\n",
        "clf = RandomForestClassifier(n_estimators=500, criterion='gini', max_depth=None, bootstrap=True)"
      ],
      "execution_count": 0,
      "outputs": []
    },
    {
      "cell_type": "markdown",
      "metadata": {
        "id": "BAYM5tbeUwdU",
        "colab_type": "text"
      },
      "source": [
        "# Accuracy of the classes"
      ]
    },
    {
      "cell_type": "code",
      "metadata": {
        "id": "h7nA-BXcTDIu",
        "colab_type": "code",
        "colab": {
          "base_uri": "https://localhost:8080/",
          "height": 260
        },
        "outputId": "b96f4955-579a-4d59-90cd-3888f0e7acbd"
      },
      "source": [
        "for category in y_test:\n",
        "  # print(category)\n",
        "  clf.fit(X_train, y_train[category])\n",
        "  y_pred = clf.predict(X_test)\n",
        "  # print(y_pred)\n",
        "  # print(y_test[category])\n",
        "  print(category, \" : \", accuracy_score(y_test[category],y_pred))"
      ],
      "execution_count": 56,
      "outputs": [
        {
          "output_type": "stream",
          "text": [
            "Class1  :  1.0\n",
            "Class2  :  0.7833333333333333\n",
            "Class3  :  0.7566666666666667\n",
            "Class4  :  0.76\n",
            "Class5  :  0.77\n",
            "Class6  :  0.7466666666666667\n",
            "Class7  :  0.84\n",
            "Class8  :  0.8366666666666667\n",
            "Class9  :  0.95\n",
            "Class10  :  0.8666666666666667\n",
            "Class11  :  0.8366666666666667\n",
            "Class12  :  0.7566666666666667\n",
            "Class13  :  0.7433333333333333\n",
            "Class14  :  0.9833333333333333\n"
          ],
          "name": "stdout"
        }
      ]
    }
  ]
}