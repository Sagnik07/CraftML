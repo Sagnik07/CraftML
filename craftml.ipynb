{
  "nbformat": 4,
  "nbformat_minor": 0,
  "metadata": {
    "colab": {
      "name": "craftml.ipynb",
      "provenance": [],
      "collapsed_sections": []
    },
    "kernelspec": {
      "name": "python3",
      "display_name": "Python 3"
    }
  },
  "cells": [
    {
      "cell_type": "code",
      "metadata": {
        "id": "Zm_NVevXQEkN",
        "colab_type": "code",
        "colab": {}
      },
      "source": [
        "from google.colab import drive\n",
        "drive.mount('/content/drive')"
      ],
      "execution_count": 0,
      "outputs": []
    },
    {
      "cell_type": "code",
      "metadata": {
        "id": "LCrSJ6pNZNJE",
        "colab_type": "code",
        "colab": {}
      },
      "source": [
        "!pip install git+git://github.com/andreinechaev/nvcc4jupyter.git"
      ],
      "execution_count": 0,
      "outputs": []
    },
    {
      "cell_type": "code",
      "metadata": {
        "id": "PHZ4-nZmZQ0O",
        "colab_type": "code",
        "colab": {}
      },
      "source": [
        "%load_ext nvcc_plugin"
      ],
      "execution_count": 0,
      "outputs": []
    },
    {
      "cell_type": "code",
      "metadata": {
        "id": "twKC04DWQPT_",
        "colab_type": "code",
        "colab": {}
      },
      "source": [
        "import pandas as pd\n",
        "import numpy as np"
      ],
      "execution_count": 0,
      "outputs": []
    },
    {
      "cell_type": "markdown",
      "metadata": {
        "id": "bK_64uT5UaWx",
        "colab_type": "text"
      },
      "source": [
        "# Mediamill dataset"
      ]
    },
    {
      "cell_type": "code",
      "metadata": {
        "id": "sLc-7sAiQVJ3",
        "colab_type": "code",
        "colab": {}
      },
      "source": [
        "data = pd.read_csv('/content/drive/My Drive/IPSC Final Project/Mediamill/mediamill_trSplit.txt', header = None)"
      ],
      "execution_count": 0,
      "outputs": []
    },
    {
      "cell_type": "code",
      "metadata": {
        "id": "oZ4_ak-mQttd",
        "colab_type": "code",
        "colab": {}
      },
      "source": [
        "data1 = open('/content/drive/My Drive/IPSC Final Project/Mediamill/mediamill_trSplit.txt', 'r')\n",
        "data1.readlines()"
      ],
      "execution_count": 0,
      "outputs": []
    },
    {
      "cell_type": "markdown",
      "metadata": {
        "id": "O7wLBc37Ucda",
        "colab_type": "text"
      },
      "source": [
        "# Bibtex dataset"
      ]
    },
    {
      "cell_type": "code",
      "metadata": {
        "id": "V0jkVspjRIvI",
        "colab_type": "code",
        "colab": {}
      },
      "source": [
        "import scipy\n",
        "from scipy.io import arff\n",
        "data, meta = scipy.io.arff.loadarff('/content/drive/My Drive/IPSC Final Project/bibtex/bibtex-train.arff')\n",
        "df = pd.DataFrame(data)"
      ],
      "execution_count": 0,
      "outputs": []
    },
    {
      "cell_type": "markdown",
      "metadata": {
        "id": "Wl5zBb55UgR_",
        "colab_type": "text"
      },
      "source": [
        "# Randomly generated dataset"
      ]
    },
    {
      "cell_type": "code",
      "metadata": {
        "id": "ceJGEfeDUA4y",
        "colab_type": "code",
        "outputId": "688088e0-706d-4188-b3b8-fc219e4253b0",
        "colab": {
          "base_uri": "https://localhost:8080/",
          "height": 52
        }
      },
      "source": [
        "from sklearn.ensemble import RandomForestClassifier\n",
        "from sklearn.datasets import make_classification\n",
        "X, y = make_classification(n_samples=1000, n_features=4, n_informative=2, n_redundant=0, random_state=0, shuffle=False)\n",
        "clf = RandomForestClassifier(max_depth=2, random_state=0)\n",
        "clf.fit(X, y)\n",
        "RandomForestClassifier(max_depth=2, random_state=0)\n",
        "print(clf.feature_importances_)\n",
        "# [0.14205973 0.76664038 0.0282433  0.06305659]\n",
        "print(clf.predict([[0, 0, 0, 0]]))"
      ],
      "execution_count": 0,
      "outputs": [
        {
          "output_type": "stream",
          "text": [
            "[0.14205973 0.76664038 0.0282433  0.06305659]\n",
            "[1]\n"
          ],
          "name": "stdout"
        }
      ]
    },
    {
      "cell_type": "markdown",
      "metadata": {
        "id": "lO7SRdN4UkZG",
        "colab_type": "text"
      },
      "source": [
        "# Yeast dataset"
      ]
    },
    {
      "cell_type": "code",
      "metadata": {
        "id": "XN69fwd8UvEt",
        "colab_type": "code",
        "outputId": "960e5c8b-35b1-4311-bc32-ac8b64b09859",
        "colab": {
          "base_uri": "https://localhost:8080/",
          "height": 260
        }
      },
      "source": [
        "from scipy.io import arff\n",
        "import pandas as pd\n",
        "\n",
        "data = arff.loadarff('/content/drive/My Drive/IPSC Final Project/yeast/yeast-train.arff')\n",
        "testdata = arff.loadarff('/content/drive/My Drive/IPSC Final Project/yeast/yeast-test.arff')\n",
        "df = pd.DataFrame(data[0])\n",
        "testdf = pd.DataFrame(testdata[0])\n",
        "print(df)\n",
        "# print(testdf.shape)\n",
        "X = df.iloc[:,0:103]\n",
        "y = df.iloc[: ,103:]\n",
        "y = y.astype('int32')\n",
        "Xtest = testdf.iloc[:,0:103]\n",
        "ytest = testdf.iloc[: ,103:]\n",
        "ytest = ytest.astype('int32')\n",
        "# df"
      ],
      "execution_count": 0,
      "outputs": [
        {
          "output_type": "stream",
          "text": [
            "          Att1      Att2      Att3  ...  Class12  Class13  Class14\n",
            "0     0.093700  0.139771  0.062774  ...     b'0'     b'0'     b'0'\n",
            "1    -0.022711 -0.050504 -0.035691  ...     b'1'     b'1'     b'0'\n",
            "2    -0.090407  0.021198  0.208712  ...     b'1'     b'1'     b'0'\n",
            "3    -0.085235  0.009540 -0.013228  ...     b'1'     b'1'     b'1'\n",
            "4    -0.088765 -0.026743  0.002075  ...     b'0'     b'0'     b'0'\n",
            "...        ...       ...       ...  ...      ...      ...      ...\n",
            "1495 -0.119784  0.001259 -0.123645  ...     b'0'     b'0'     b'0'\n",
            "1496  0.085327  0.058590  0.085268  ...     b'1'     b'1'     b'0'\n",
            "1497  0.082526 -0.095571 -0.022019  ...     b'1'     b'1'     b'0'\n",
            "1498 -0.130830  0.008868 -0.009457  ...     b'1'     b'1'     b'0'\n",
            "1499 -0.171578 -0.066536  0.168206  ...     b'1'     b'1'     b'0'\n",
            "\n",
            "[1500 rows x 117 columns]\n"
          ],
          "name": "stdout"
        }
      ]
    },
    {
      "cell_type": "code",
      "metadata": {
        "id": "ZCevF2GGB50R",
        "colab_type": "code",
        "colab": {}
      },
      "source": [
        "data = pd.concat([X,y], axis = 1)\n",
        "testdata = pd.concat([Xtest, ytest], axis = 1)"
      ],
      "execution_count": 0,
      "outputs": []
    },
    {
      "cell_type": "code",
      "metadata": {
        "id": "pueKDFvCYhDV",
        "colab_type": "code",
        "colab": {}
      },
      "source": [
        "import csv\n",
        "data.to_csv('train_full.csv', header = None, index = None)\n",
        "testdata.to_csv('test_full.csv', header = None, index = None)"
      ],
      "execution_count": 0,
      "outputs": []
    },
    {
      "cell_type": "markdown",
      "metadata": {
        "id": "_HBhQYdhUmxJ",
        "colab_type": "text"
      },
      "source": [
        "# Train validation split"
      ]
    },
    {
      "cell_type": "code",
      "metadata": {
        "id": "ZsuTmf1cQR4l",
        "colab_type": "code",
        "colab": {}
      },
      "source": [
        "from sklearn.model_selection import train_test_split\n",
        "X_train, X_test, y_train, y_test = train_test_split(X, y, test_size=0.20)"
      ],
      "execution_count": 0,
      "outputs": []
    },
    {
      "cell_type": "code",
      "metadata": {
        "id": "aDPWVFZNQbzg",
        "colab_type": "code",
        "outputId": "fb92bb5f-7569-4f99-88bb-7c2269fdb43d",
        "colab": {
          "base_uri": "https://localhost:8080/",
          "height": 86
        }
      },
      "source": [
        "print(X_train.shape)\n",
        "print(y_train.shape)\n",
        "print(X_test.shape)\n",
        "print(y_test.shape)"
      ],
      "execution_count": 0,
      "outputs": [
        {
          "output_type": "stream",
          "text": [
            "(1200, 103)\n",
            "(1200, 14)\n",
            "(300, 103)\n",
            "(300, 14)\n"
          ],
          "name": "stdout"
        }
      ]
    },
    {
      "cell_type": "markdown",
      "metadata": {
        "id": "K9-u3_5lUqn0",
        "colab_type": "text"
      },
      "source": [
        "# Random forest classifier"
      ]
    },
    {
      "cell_type": "code",
      "metadata": {
        "id": "YcEE-VNcKbWJ",
        "colab_type": "code",
        "colab": {}
      },
      "source": [
        "from sklearn.ensemble import RandomForestClassifier\n",
        "from sklearn.metrics import accuracy_score\n",
        "clf = RandomForestClassifier(n_estimators=5000, criterion='gini', max_depth=None, bootstrap=True)"
      ],
      "execution_count": 0,
      "outputs": []
    },
    {
      "cell_type": "markdown",
      "metadata": {
        "id": "BAYM5tbeUwdU",
        "colab_type": "text"
      },
      "source": [
        "# Accuracy of the classes"
      ]
    },
    {
      "cell_type": "code",
      "metadata": {
        "id": "h7nA-BXcTDIu",
        "colab_type": "code",
        "outputId": "6f0a6ad8-e789-4cca-dedc-91f6aacc28a1",
        "colab": {
          "base_uri": "https://localhost:8080/",
          "height": 260
        }
      },
      "source": [
        "for category in y_test:\n",
        "  clf.fit(X_train, y_train[category])\n",
        "  y_pred = clf.predict(X_test)\n",
        "  print(category, \" : \", accuracy_score(y_test[category],y_pred))"
      ],
      "execution_count": 0,
      "outputs": [
        {
          "output_type": "stream",
          "text": [
            "Class1  :  0.7766666666666666\n",
            "Class2  :  0.65\n",
            "Class3  :  0.74\n",
            "Class4  :  0.7166666666666667\n",
            "Class5  :  0.7366666666666667\n",
            "Class6  :  0.7666666666666667\n",
            "Class7  :  0.85\n",
            "Class8  :  0.84\n",
            "Class9  :  0.9466666666666667\n",
            "Class10  :  0.8933333333333333\n",
            "Class11  :  0.8633333333333333\n",
            "Class12  :  0.7433333333333333\n",
            "Class13  :  0.7133333333333334\n",
            "Class14  :  0.98\n"
          ],
          "name": "stdout"
        }
      ]
    },
    {
      "cell_type": "markdown",
      "metadata": {
        "id": "kTibGPfn3nE7",
        "colab_type": "text"
      },
      "source": [
        "# Parallel implementation using Cuda"
      ]
    },
    {
      "cell_type": "code",
      "metadata": {
        "id": "lPUdLbGzwo2-",
        "colab_type": "code",
        "outputId": "8d20f155-d18d-46c6-97cb-b7d5f3e4f638",
        "colab": {
          "base_uri": "https://localhost:8080/",
          "height": 278
        }
      },
      "source": [
        "%%cu\n",
        "#include <iostream>\n",
        "#include <bits/stdc++.h>\n",
        "#include <fstream>\n",
        "#include <sstream>\n",
        "#include <string>\n",
        "#include \"math.h\"\n",
        "#include \"limits.h\"\n",
        "\n",
        "#define MIN -99\n",
        "#define M 104\n",
        "#define N 1500\n",
        "#define trainFileName \"train_full.csv\"\n",
        "#define testFileName \"test_full.csv\"\n",
        "#define features 55\n",
        "#define K 10\n",
        "#define trainData(row,col) trainData[col+row*M]\n",
        "#define testData(row,col) testData[col+row*M]\n",
        "#define THRESHOLD 0\n",
        "using namespace std;\n",
        "\n",
        "vector <vector <double> > train_file;\n",
        "vector <vector <double> > test_file;\n",
        "\n",
        "vector <vector <double> > trainFile_Full;\n",
        "vector <vector <double> > testFile_Full;\n",
        "\n",
        "\n",
        "int *device_trainFileData, *device_cardinality;\n",
        "float *infoGainsInitializer;\n",
        "__device__ float device_infoGainOfData;\n",
        "\n",
        "dim3 blocks(M);\n",
        "dim3 threads(N);\n",
        "\n",
        "struct Node{\n",
        "\tint number_of_children;\n",
        "\tint branch_value;\n",
        "\tint split_attribute;\n",
        "\tint leaf_value;\n",
        "\tstruct Node *children[10];\n",
        "};\n",
        "\n",
        "typedef struct Node node;\n",
        "\n",
        "node* create(){\n",
        "\tnode* n = new node;\n",
        "\tn->number_of_children = 0;\n",
        "\tn->branch_value = -1;\n",
        "\tn->split_attribute = -1;\n",
        "\tn->leaf_value = -1;\n",
        "\treturn n;\n",
        "}\n",
        "void chooseRandomFeatures(){\n",
        "\tvector<vector<double> > trainFileRandom( N , vector<double> (M, 0));\n",
        "\tfor(int i=0; i<50; i++){\n",
        "\t\tint guess = rand() % 103; \n",
        "\n",
        "\t\ttrainFileRandom[i]=train_file[guess];\n",
        "\t}\n",
        "\ttrain_file=trainFileRandom;\t\n",
        "}\n",
        "double cosine_distance(double *A, double *B,   int Vector_Length)\n",
        "{\n",
        "    double dot = 0.0,  denominator_a = 0.0,  denominator_b = 0.0 ;\n",
        "    for(  int i = 0u; i < Vector_Length; ++i) {\n",
        "        dot += A[i] * B[i] ;\n",
        "        denominator_a += A[i] * A[i] ;\n",
        "         denominator_b += B[i] * B[i] ;\n",
        "    }\n",
        "    return dot / (sqrt( denominator_a) * sqrt( denominator_b)) ;\n",
        "}\n",
        "void k_means(){\n",
        "\tdouble  trainFile1[N][M];\n",
        "    int minima[features]={INT_MAX};\n",
        "    int maxima[features]={INT_MIN};\n",
        "    int cluster[N];\n",
        "    int t=0;\n",
        "    for(int i=0; i<N; i++){\n",
        "        for(int j=0; j<features; j++){\n",
        "            if( trainFile1[i][j]<minima[j]){\n",
        "                minima[j]= trainFile1[i][j];\n",
        "            }\n",
        "            if( trainFile1[i][j]>maxima[j]){\n",
        "                maxima[j]= trainFile1[i][j];\n",
        "            }\n",
        "        }\n",
        "    }\n",
        "    double mean_arr[K][features];\n",
        "    for(int i=0; i<K; i++){\n",
        "        for(int j=0; j<features; j++){\n",
        "            int num = (rand() % (maxima[j] - minima[j] + 1)) + minima[j]; \n",
        "            mean_arr[i][j]=num;\n",
        "        }\n",
        "    }\n",
        "\n",
        "    for (int i = 0; i < t; i++) {\n",
        "        for (int j = 0; j < N; j++) {\n",
        "            double* dists = new double[K];\n",
        "            for (int p = 0; p < K; p++) {\n",
        "                dists[p] = cosine_distance( trainFile1[j], mean_arr[p], M);\n",
        "            }\n",
        "            cluster[j] = std::min_element(dists, dists + K) - dists;\n",
        "            delete[] dists;\n",
        "        }\n",
        "        double sum[K][M]={0};\n",
        "        int count[K]={0};\n",
        "        \n",
        "        for (int f = 0; f < N; f++) {\n",
        "            for (int p = 0; p < M; p++) {\n",
        "                sum[cluster[f]][p]+= trainFile1[f][p];\n",
        "            }\n",
        "            count[cluster[f]]++;\n",
        "        }\n",
        "        for (int f = 0; f < K; f++) {\n",
        "            for (int p = 0; p < M; p++) {\n",
        "                mean_arr[f][p]=sum[f][p]/count[f];\n",
        "            }\n",
        "        }\n",
        "    }\n",
        "}\n",
        "\n",
        "  void read_files(string file_name){\n",
        "\tif(file_name.compare(\"training\")==0){\n",
        "\t\tstring line;\n",
        "\t\tifstream ifs(trainFileName);\n",
        "\t\twhile(getline(ifs,line)){\n",
        "\t\t\tvector <double> entry;\n",
        "\t\t\tstringstream lineStream(line);\n",
        "\t\t\tstring value;\n",
        "\t\t\twhile(getline(lineStream,value,',')){\n",
        "\t\t\t\tentry.push_back(stof(value));\n",
        "\t\t\t}\n",
        "\t\t\ttrain_file.push_back(entry);\n",
        "\t\t}\n",
        "\t\tifs.close();\n",
        "\t}\n",
        "\telse if(file_name.compare(\"testing\")==0){\n",
        "\t\tstring line1;\n",
        "\t\tifstream ifs1(testFileName);\n",
        "\t\twhile(getline(ifs1,line1)){\n",
        "\t\t\tvector <double> entry;\n",
        "\t\t\tstringstream lineStream1(line1);\n",
        "\t\t\tstring value;\n",
        "\t\t\twhile(getline(lineStream1,value,',')){\n",
        "\t\t\t\tentry.push_back(stof(value));\n",
        "\t\t\t}\n",
        "\t\t\ttest_file.push_back(entry);\n",
        "\t\t}\n",
        "\t\tifs1.close();\n",
        "\t}\n",
        "  }\n",
        "\n",
        "  __global__ void getInformationGains(int *attr,int *data,int dataSize,float *infoGains,int *trainData,int *cardinality)\n",
        "{\n",
        "\tif(attr[blockIdx.x]==0 && blockIdx.x!=0 && blockIdx.x!=M-1){\n",
        "\t\tint threadid,blockid,j;\n",
        "\t\tthreadid=threadIdx.x;\n",
        "\t\tblockid=blockIdx.x;\n",
        "\t\t__shared__ int value_attribute[10];\n",
        "\t\t__shared__ int value_class_attribute[10][10];\n",
        "\t\tif(threadid<10){\n",
        "\t\t\tvalue_attribute[threadid]=0;\n",
        "\t\t\tfor(j=0;j<10;j++){\n",
        "\t\t\t\tvalue_class_attribute[threadid][j]=0;\n",
        "\t\t\t}\n",
        "\t\t}\n",
        "\t\t__syncthreads();\n",
        "\t\tint classVal = trainData(data[threadid],M-1);\n",
        "\t\tint attribute_value = trainData(data[threadid],blockid);\n",
        "\t\tatomicAdd(&value_attribute[attribute_value],1);\n",
        "\t\tatomicAdd(&value_class_attribute[attribute_value][classVal],1);\n",
        "\t\t__syncthreads();\n",
        "\t\tif(threadid==0){\n",
        "\t\t\tint i,j;\n",
        "\t\t\tfloat information_gain,intermediateGain;\n",
        "\t\t\tinformation_gain=0;\n",
        "\t\t\tfor(i=1;i<=cardinality[blockid];i++){\n",
        "\t\t\t\tintermediateGain=0;\n",
        "\t\t\t\tif(value_attribute[i]==0){\n",
        "\t\t\t\t\tcontinue;\n",
        "\t\t\t\t}\n",
        "\t\t\t\tfor(j=1;j<=cardinality[M-1];j++){\n",
        "\t\t\t\t\tif(value_class_attribute[i][j]==0){\n",
        "\t\t\t\t\t\tcontinue;\n",
        "\t\t\t\t\t}\n",
        "\t\t\t\t\tintermediateGain+=(float(value_class_attribute[i][j])/(float)value_attribute[i])*(log((float)value_class_attribute[i][j]/(float)value_attribute[i])/log((float)2));\n",
        "\t\t\t\t}\n",
        "\t\t\t\tintermediateGain*=(float(value_attribute[i])/(float)dataSize);\n",
        "\t\t\t\tinformation_gain-=intermediateGain;\n",
        "\t\t\t}\n",
        "\t\t\tinfoGains[blockid]=information_gain;\n",
        "\t\t}\n",
        "\t}\n",
        "}\n",
        "\n",
        "__global__ void getInfoGainOfData(int *data,int dataSize,int *trainData,int *cardinality)\n",
        "{\n",
        "\t__shared__ int value_class_count[10];\n",
        "\tint classVal,i,threadid;\n",
        "\tfloat information_gain;\n",
        "\tthreadid=threadIdx.x;\n",
        "\tif(threadid<10){\n",
        "\t\tvalue_class_count[threadid]=0;\n",
        "\t}\n",
        "\t__syncthreads();\n",
        "\tclassVal=trainData(data[threadIdx.x],M-1);\n",
        "\tatomicAdd(&value_class_count[classVal],1);\n",
        "\t__syncthreads();\n",
        "\tif(threadid==0){\n",
        "\t\tinformation_gain=0;\n",
        "\t\tfor(i=1;i<=cardinality[M-1];i++){\n",
        "\t\t\tif(value_class_count[i]==0){\n",
        "\t\t\t\tcontinue;\n",
        "\t\t\t}\n",
        "\t\t\tinformation_gain+=((float)value_class_count[i]/(float)dataSize)*(log((float)value_class_count[i]/(float)dataSize)/log((float)2));\n",
        "\t\t}\n",
        "\t\tdevice_infoGainOfData=-1*information_gain;\n",
        "\t}\n",
        "}\n",
        "\n",
        "int majority_vote(int *data,int dataSize)\n",
        "{\n",
        "\tint i,outputClass,ans,maxVal;\n",
        "\tmap <int, int> dataCount;\n",
        "\tmap <int, int>::iterator iterator;\n",
        "\tfor(i=0;i<dataSize;i++){\n",
        "\t\toutputClass = train_file[data[i]][M-1];\n",
        "\t\tif(dataCount.find(outputClass)==dataCount.end()){\n",
        "\t\t\tdataCount.insert(make_pair(outputClass,1));\n",
        "\t\t}\n",
        "\t\telse{\n",
        "\t\t\tdataCount[outputClass]++;\n",
        "\t\t}\n",
        "\t}\n",
        "\tmaxVal = MIN;\n",
        "\tfor(iterator=dataCount.begin();iterator!=dataCount.end();iterator++){\n",
        "\t\tif(iterator->second > maxVal){\n",
        "\t\t\tans = iterator->first;\n",
        "\t\t}\n",
        "\t}\n",
        "\treturn ans;\n",
        "}\n",
        "\n",
        "void make_decision(int *host_attributes, int *host_data, node *root, int host_datasize)\t{\n",
        "\tint flag, host_selectedAttribute, i;\n",
        "\tk_means();\n",
        "\tif(host_datasize<=THRESHOLD){\n",
        "\t\treturn;\n",
        "\t}\n",
        "\tfloat maxGain;\n",
        "\tflag=1;\n",
        "\t\n",
        "\tfor(i=1;i<host_datasize;i++){\n",
        "\t\tif(train_file[host_data[i]][M-1]!=train_file[host_data[i-1]][M-1]){\n",
        "\t\t\tflag=0;\n",
        "\t\t\tbreak;\n",
        "\t\t}\n",
        "\t}\n",
        "\tif(flag==1){\n",
        "\t\troot->leaf_value=train_file[host_data[0]][M-1];\n",
        "\t\treturn;\n",
        "\t}\n",
        "\t\n",
        "\tint *device_attr, *device_data;\n",
        "\tfloat *device_infoGains;\n",
        "\tfloat host_informationGains[M];\n",
        "\tfloat host_infoGainOfData;\n",
        "\n",
        "\tcudaMalloc((void**)&device_attr,M*sizeof(int));\n",
        "\tcudaMalloc((void**)&device_data,host_datasize*sizeof(int));\n",
        "\tcudaMalloc(&device_infoGains,M*sizeof(float));\n",
        "\tcudaMemcpy((void*)device_attr,(void*)host_attributes,M*sizeof(int),cudaMemcpyHostToDevice);\n",
        "\tcudaMemcpy((void*)device_data,(void*)host_data,host_datasize*sizeof(int),cudaMemcpyHostToDevice);\n",
        "\tcudaMemcpy(device_infoGains, infoGainsInitializer, M*sizeof(float),cudaMemcpyHostToDevice);\n",
        "\n",
        "\tgetInformationGains<<<blocks,host_datasize>>>(device_attr,device_data,host_datasize,device_infoGains,device_trainFileData,device_cardinality);\n",
        "\t\n",
        "\tcudaMemcpy((void*)host_informationGains,(void*)device_infoGains,M*sizeof(float),cudaMemcpyDeviceToHost);\n",
        "\n",
        "\tcudaFree(device_attr);\n",
        "\tcudaFree(device_infoGains);\n",
        "\n",
        "\tgetInfoGainOfData<<<1,host_datasize>>>(device_data,host_datasize,device_trainFileData,device_cardinality);\n",
        "\n",
        "\tcudaMemcpyFromSymbol(&host_infoGainOfData,device_infoGainOfData,sizeof(float),0,cudaMemcpyDeviceToHost);\n",
        "\n",
        "\tcudaFree(device_data);\n",
        "\n",
        "\tmaxGain=MIN;\n",
        "\thost_selectedAttribute=-1;\n",
        "\tfor(i=1;i<M-1;i++){\n",
        "\t\tif(host_attributes[i]==0){\n",
        "\t\t\thost_informationGains[i]=host_infoGainOfData-host_informationGains[i];\n",
        "\t\t\tif(host_informationGains[i]>maxGain){\n",
        "\t\t\t\tmaxGain=host_informationGains[i];\n",
        "\t\t\t\thost_selectedAttribute=i;\n",
        "\t\t\t}\n",
        "\t\t}\n",
        "\t}\n",
        "\n",
        "\troot->split_attribute = host_selectedAttribute;\n",
        "\thost_attributes[host_selectedAttribute]=1;\n",
        "\n",
        "\tif(host_selectedAttribute==-1){\n",
        "\t\troot->leaf_value = majority_vote(host_data, host_datasize);\n",
        "\t\treturn;\n",
        "\t}\n",
        "\n",
        "\tmap<int, vector <int> > dividedData;\n",
        "\tmap<int, vector <int> >::iterator iterator;\n",
        "\tint attribute_value;\n",
        "\n",
        "\tfor(i=0;i<host_datasize;i++){\n",
        "\t\tattribute_value = train_file[host_data[i]][host_selectedAttribute];\n",
        "\t\tif(dividedData.find(attribute_value) == dividedData.end()){\n",
        "\t\t\tvector <int> x;\n",
        "\t\t\tx.push_back(host_data[i]);\n",
        "\t\t\tdividedData.insert(make_pair(attribute_value,x));\n",
        "\t\t}\n",
        "\t\telse{\n",
        "\t\t\tdividedData[attribute_value].push_back(host_data[i]);\n",
        "\t\t}\n",
        "\t}\n",
        "\tfor(i=0,iterator=dividedData.begin(); iterator!=dividedData.end(); iterator++,i++){\n",
        "\t\troot->number_of_children++;\n",
        "\t\tnode* childNode;\n",
        "\t\tchildNode = create();\n",
        "\t\t\n",
        "\t\troot->children[i] = childNode;\n",
        "\t\tchildNode->branch_value = iterator->first;\n",
        "\t\t\n",
        "\n",
        "\t\tint new_attr[M];\n",
        "\t\tfor(int z=0;z<M;z++){\n",
        "\t\t\tnew_attr[z]=host_attributes[z];\n",
        "\t\t}\n",
        "\t\tint* host_childData = &(iterator->second[0]);\n",
        "\t\tmake_decision(new_attr, host_childData, childNode, iterator->second.size());\n",
        "\t}\n",
        "}\n",
        "\n",
        "__global__ void getCardinality(int *trainData, int *cardinality)\t{\n",
        "\t__shared__ int x[10];\n",
        "\tint blockid, threadid,i;\n",
        "\tblockid = blockIdx.x;\n",
        "\tthreadid = threadIdx.x;\n",
        "\tif(threadid<10){\n",
        "\t\tx[threadid]=0;\n",
        "\t}\n",
        "\t__syncthreads();\n",
        "\tif(blockIdx.x!=0){\n",
        "\t\tx[trainData(threadid, blockid)] = 1;\n",
        "\t\t__syncthreads();\n",
        "\t\tfor(i=1;i<10;i*=2){\n",
        "\t\t\tint index = 2*i*threadid;\n",
        "\t\t\tif(index+i<10){\n",
        "\t\t\t\tx[index]+=x[index+i];\n",
        "\t\t\t}\n",
        "\t\t\t__syncthreads();\n",
        "\t\t}\n",
        "\t\tif(threadid==0){\n",
        "\t\t\tcardinality[blockid]=x[0];\n",
        "\t\t}\n",
        "\t}\n",
        "\t__syncthreads();\n",
        "}\n",
        "\n",
        "void fillTrainFile(vector <vector <double> > trainFile_Full, int index){\n",
        "    for(int j=0; j<trainFile_Full.size(); j++){\n",
        "        vector<double> temp;\n",
        "        for(int i=0; i<(M-1); i++){\n",
        "            temp.push_back(trainFile_Full[j][i]);\n",
        "        }\n",
        "        temp.push_back(trainFile_Full[j][index]);\n",
        "        train_file.push_back(temp);\n",
        "    }\n",
        "}\n",
        "void fillTestFile(vector <vector <double> > testFile_Full, int index){\n",
        "    for(int j=0; j<testFile_Full.size(); j++){\n",
        "        vector<double> temp;\n",
        "        for(int i=0; i<(M-1); i++){\n",
        "            temp.push_back(testFile_Full[j][i]);\n",
        "        }\n",
        "        temp.push_back(testFile_Full[j][index]);\n",
        "        test_file.push_back(temp);\n",
        "    }\n",
        "}\n",
        "\n",
        "void test(node* root, int index)\t{\n",
        "\tint i,pos,neg,noResult,attr,attribute_value,j,flag;\n",
        "\tnode* temp;\n",
        "\tpos=0;\n",
        "\tneg=0;\n",
        "\tnoResult=0;\n",
        "\t// readCSV(\"testing\");\n",
        "\t// read_files(\"testing\");\n",
        "\tfillTestFile(testFile_Full, index);\n",
        "\n",
        "\tfor(i=0;i<test_file.size();i++){\n",
        "\t\ttemp=root;\n",
        "\t\tflag=0;\n",
        "\t\twhile(temp->leaf_value==-1 && temp->split_attribute!=-1){\n",
        "\t\t\tattr = temp->split_attribute;\n",
        "\t\t\tattribute_value=test_file[i][attr];\n",
        "\t\t\tfor(j=0;j<temp->number_of_children;j++){\n",
        "\t\t\t\tif(temp->children[j]->branch_value == attribute_value){\n",
        "\t\t\t\t\tbreak;\n",
        "\t\t\t\t}\n",
        "\t\t\t}\n",
        "\t\t\tif(j==temp->number_of_children){\n",
        "\t\t\t\tflag=1;\n",
        "\t\t\t\tbreak;\n",
        "\t\t\t}\n",
        "\t\t\telse{\n",
        "\t\t\t\ttemp=temp->children[j];\n",
        "\t\t\t}\n",
        "\t\t}\n",
        "\t\tif(temp->leaf_value == test_file[i][M-1]){\n",
        "\t\t\tpos++;\n",
        "\t\t}\n",
        "\t\telse{\n",
        "\t\t\tneg++;\n",
        "\t\t}\n",
        "\t\tif(temp->leaf_value == -1 || flag==1){\n",
        "\t\t\tnoResult++;\n",
        "\t\t}\n",
        "\t}\n",
        "\tcout << \"Class\" << (index - 102) << \"  :  \";\n",
        "\tcout << \"Accuracy: \" << max(pos, neg)/(pos+neg+0.0)*1.0;\n",
        "\treturn;\n",
        "}\n",
        "\n",
        "void extractFull(string str)\t{\n",
        "\tif(str.compare(\"training\")==0){\n",
        "\t\tifstream ifs(trainFileName);\n",
        "\t\tstring line;\n",
        "\t\t\n",
        "\t\twhile(getline(ifs,line)){\n",
        "\t\t\tstringstream lineStream(line);\n",
        "\t\t\tstring cell;\n",
        "\t\t\tvector <double> values;\n",
        "\t\t\twhile(getline(lineStream,cell,',')){\n",
        "\t\t\t\tvalues.push_back(stof(cell));\n",
        "\t\t\t}\n",
        "\t\t\ttrainFile_Full.push_back(values);\n",
        "\t\t}\n",
        "\t\tifs.close();\n",
        "\t}\n",
        "\telse if(str.compare(\"testing\")==0){\n",
        "\t\tifstream ifs1(testFileName);\n",
        "\t\tstring line1;\n",
        "\t\t\n",
        "\t\twhile(getline(ifs1,line1)){\n",
        "\t\t\tstringstream lineStream1(line1);\n",
        "\t\t\tstring cell1;\n",
        "\t\t\tvector <double> values1;\n",
        "\t\t\twhile(getline(lineStream1,cell1,',')){\n",
        "\t\t\t\tvalues1.push_back(stof(cell1));\n",
        "\t\t\t}\n",
        "\t\t\ttestFile_Full.push_back(values1);\n",
        "\t\t}\n",
        "\t\tifs1.close();\n",
        "\t}\n",
        "}\n",
        "\n",
        "int main()\t{\n",
        "\tint i;\n",
        "\tnode* root;\n",
        "\textractFull(\"training\");\n",
        "\textractFull(\"testing\");\n",
        "\n",
        "\t// readCSV(\"training\");\n",
        "\t// read_files(\"training\");\n",
        "\n",
        "\tfor(int index=103; index<117; index++){\n",
        "\n",
        "\t\ttrain_file.clear();\n",
        "\t\ttest_file.clear();\n",
        "\t\t\n",
        "\n",
        "\t\tfillTrainFile(trainFile_Full, index);\n",
        "\n",
        "\t\t// chooseRandom();\n",
        "\n",
        "\t\tint host_trainFileData[N*M+5]={0};\n",
        "\t\t\n",
        "\t\tfor(i=0;i<N*M;i++){\n",
        "\t\t\thost_trainFileData[i] = train_file[i/M][i%M];\n",
        "\t\t}\n",
        "\t\t\n",
        "\t\tint host_data[N], host_attributes[M];\n",
        "\n",
        "\t\tfor(i=0;i<N;i++){\n",
        "\t\t\thost_data[i]=i;\n",
        "\t\t}\n",
        "\t\tfor(i=0;i<M;i++){\n",
        "\t\t\thost_attributes[i]=0;\n",
        "\t\t}\n",
        "\n",
        "\t\tcudaMalloc((void**)&device_trainFileData, N*M*sizeof(int));\n",
        "\t\tcudaMemcpy((void*)device_trainFileData,(void*)host_trainFileData, M*N*sizeof(int), cudaMemcpyHostToDevice);\n",
        "\n",
        "\t\tcudaMalloc((void**)&device_cardinality,M*sizeof(int));\n",
        "\t\tcudaMemset(device_cardinality, 0, M*sizeof(int));\n",
        "\t\n",
        "\t\tgetCardinality<<<blocks,threads>>>(device_trainFileData, device_cardinality);\n",
        "\n",
        "\t\troot = create();\n",
        "\n",
        "\t\tinfoGainsInitializer = (float*)malloc( M * sizeof(float));\n",
        "\t\tfor(i=0; i<M; i++){\n",
        "\t\t\tinfoGainsInitializer[i]=MIN;\n",
        "\t\t}\n",
        "\t\t\n",
        "\t\n",
        "\t\tmake_decision(host_attributes, host_data, root, N);\n",
        "\n",
        "\n",
        "\t\tcudaFree(device_trainFileData);\n",
        "\t\tcudaFree(device_cardinality);\n",
        "\n",
        "\t\ttest(root, index);\n",
        "\n",
        "\t\tcout << endl;\n",
        "\t\n",
        "\t}\n",
        "\treturn 0;\n",
        "}"
      ],
      "execution_count": 0,
      "outputs": [
        {
          "output_type": "stream",
          "text": [
            "Class1  :  Accuracy: 0.688113\n",
            "Class2  :  Accuracy: 0.571429\n",
            "Class3  :  Accuracy: 0.580153\n",
            "Class4  :  Accuracy: 0.640131\n",
            "Class5  :  Accuracy: 0.693566\n",
            "Class6  :  Accuracy: 0.761178\n",
            "Class7  :  Accuracy: 0.817884\n",
            "Class8  :  Accuracy: 0.791712\n",
            "Class9  :  Accuracy: 0.912759\n",
            "Class10  :  Accuracy: 0.899673\n",
            "Class11  :  Accuracy: 0.900763\n",
            "Class12  :  Accuracy: 0.750273\n",
            "Class13  :  Accuracy: 0.74482\n",
            "Class14  :  Accuracy: 0.985823\n",
            "\n"
          ],
          "name": "stdout"
        }
      ]
    }
  ]
}